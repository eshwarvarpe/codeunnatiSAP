{
 "cells": [
  {
   "cell_type": "code",
   "execution_count": 1,
   "id": "ce6be303",
   "metadata": {},
   "outputs": [],
   "source": [
    "ls =[1,2,3,4,5]"
   ]
  },
  {
   "cell_type": "code",
   "execution_count": 2,
   "id": "1d8a7ed6",
   "metadata": {},
   "outputs": [
    {
     "name": "stdout",
     "output_type": "stream",
     "text": [
      "[1, 2, 3, 4, 5]\n"
     ]
    }
   ],
   "source": [
    "print(ls)"
   ]
  },
  {
   "cell_type": "code",
   "execution_count": 3,
   "id": "b8fc9542",
   "metadata": {},
   "outputs": [],
   "source": [
    "import pandas as pd\n",
    "import numpy as np"
   ]
  },
  {
   "cell_type": "code",
   "execution_count": 4,
   "id": "dea7473c",
   "metadata": {},
   "outputs": [
    {
     "data": {
      "text/plain": [
       "list"
      ]
     },
     "execution_count": 4,
     "metadata": {},
     "output_type": "execute_result"
    }
   ],
   "source": [
    "type(ls)"
   ]
  },
  {
   "cell_type": "code",
   "execution_count": 5,
   "id": "2ed8729e",
   "metadata": {},
   "outputs": [],
   "source": [
    "lsp = pd.Series(ls)"
   ]
  },
  {
   "cell_type": "code",
   "execution_count": 6,
   "id": "3847b3d9",
   "metadata": {},
   "outputs": [
    {
     "name": "stdout",
     "output_type": "stream",
     "text": [
      "0    1\n",
      "1    2\n",
      "2    3\n",
      "3    4\n",
      "4    5\n",
      "dtype: int64\n"
     ]
    }
   ],
   "source": [
    "print(lsp)"
   ]
  },
  {
   "cell_type": "code",
   "execution_count": 7,
   "id": "d4c9f340",
   "metadata": {},
   "outputs": [
    {
     "data": {
      "text/plain": [
       "pandas.core.series.Series"
      ]
     },
     "execution_count": 7,
     "metadata": {},
     "output_type": "execute_result"
    }
   ],
   "source": [
    "type(lsp)"
   ]
  },
  {
   "cell_type": "code",
   "execution_count": 8,
   "id": "aa4222bf",
   "metadata": {},
   "outputs": [],
   "source": [
    "lsd = pd.DataFrame(ls)"
   ]
  },
  {
   "cell_type": "code",
   "execution_count": 9,
   "id": "9d7f5031",
   "metadata": {},
   "outputs": [],
   "source": [
    "lsd.to_csv('file.csv')"
   ]
  },
  {
   "cell_type": "code",
   "execution_count": 10,
   "id": "57d5929d",
   "metadata": {},
   "outputs": [],
   "source": [
    "data = pd.read_csv('file.csv')"
   ]
  },
  {
   "cell_type": "code",
   "execution_count": 11,
   "id": "e3ba4573",
   "metadata": {},
   "outputs": [
    {
     "data": {
      "text/html": [
       "<div>\n",
       "<style scoped>\n",
       "    .dataframe tbody tr th:only-of-type {\n",
       "        vertical-align: middle;\n",
       "    }\n",
       "\n",
       "    .dataframe tbody tr th {\n",
       "        vertical-align: top;\n",
       "    }\n",
       "\n",
       "    .dataframe thead th {\n",
       "        text-align: right;\n",
       "    }\n",
       "</style>\n",
       "<table border=\"1\" class=\"dataframe\">\n",
       "  <thead>\n",
       "    <tr style=\"text-align: right;\">\n",
       "      <th></th>\n",
       "      <th>Unnamed: 0</th>\n",
       "      <th>0</th>\n",
       "    </tr>\n",
       "  </thead>\n",
       "  <tbody>\n",
       "    <tr>\n",
       "      <th>0</th>\n",
       "      <td>0</td>\n",
       "      <td>1</td>\n",
       "    </tr>\n",
       "    <tr>\n",
       "      <th>1</th>\n",
       "      <td>1</td>\n",
       "      <td>2</td>\n",
       "    </tr>\n",
       "    <tr>\n",
       "      <th>2</th>\n",
       "      <td>2</td>\n",
       "      <td>3</td>\n",
       "    </tr>\n",
       "    <tr>\n",
       "      <th>3</th>\n",
       "      <td>3</td>\n",
       "      <td>4</td>\n",
       "    </tr>\n",
       "    <tr>\n",
       "      <th>4</th>\n",
       "      <td>4</td>\n",
       "      <td>5</td>\n",
       "    </tr>\n",
       "  </tbody>\n",
       "</table>\n",
       "</div>"
      ],
      "text/plain": [
       "   Unnamed: 0  0\n",
       "0           0  1\n",
       "1           1  2\n",
       "2           2  3\n",
       "3           3  4\n",
       "4           4  5"
      ]
     },
     "execution_count": 11,
     "metadata": {},
     "output_type": "execute_result"
    }
   ],
   "source": [
    "data.head()"
   ]
  },
  {
   "cell_type": "code",
   "execution_count": 12,
   "id": "d51704c6",
   "metadata": {},
   "outputs": [
    {
     "ename": "KeyboardInterrupt",
     "evalue": "",
     "output_type": "error",
     "traceback": [
      "\u001b[1;31m---------------------------------------------------------------------------\u001b[0m",
      "\u001b[1;31mKeyboardInterrupt\u001b[0m                         Traceback (most recent call last)",
      "Cell \u001b[1;32mIn[12], line 1\u001b[0m\n\u001b[1;32m----> 1\u001b[0m df \u001b[38;5;241m=\u001b[39m pd\u001b[38;5;241m.\u001b[39mconcat(\u001b[43m[\u001b[49m\u001b[43mpd\u001b[49m\u001b[38;5;241;43m.\u001b[39;49m\u001b[43mDataFrame\u001b[49m\u001b[43m(\u001b[49m\u001b[43mnp\u001b[49m\u001b[38;5;241;43m.\u001b[39;49m\u001b[43mrandom\u001b[49m\u001b[38;5;241;43m.\u001b[39;49m\u001b[43mrandint\u001b[49m\u001b[43m(\u001b[49m\u001b[38;5;241;43m0\u001b[39;49m\u001b[43m,\u001b[49m\u001b[43m \u001b[49m\u001b[38;5;241;43m100\u001b[39;49m\u001b[43m,\u001b[49m\u001b[43m \u001b[49m\u001b[43msize\u001b[49m\u001b[38;5;241;43m=\u001b[39;49m\u001b[43m(\u001b[49m\u001b[38;5;241;43m2\u001b[39;49m\u001b[38;5;241;43m*\u001b[39;49m\u001b[38;5;241;43m*\u001b[39;49m\u001b[38;5;241;43m20\u001b[39;49m\u001b[43m,\u001b[49m\u001b[43m \u001b[49m\u001b[38;5;241;43m2\u001b[39;49m\u001b[38;5;241;43m*\u001b[39;49m\u001b[38;5;241;43m*\u001b[39;49m\u001b[38;5;241;43m8\u001b[39;49m\u001b[43m)\u001b[49m\u001b[43m)\u001b[49m\u001b[43m)\u001b[49m\u001b[43m \u001b[49m\u001b[38;5;28;43;01mfor\u001b[39;49;00m\u001b[43m \u001b[49m\u001b[43m_\u001b[49m\u001b[43m \u001b[49m\u001b[38;5;129;43;01min\u001b[39;49;00m\u001b[43m \u001b[49m\u001b[38;5;28;43mrange\u001b[39;49m\u001b[43m(\u001b[49m\u001b[38;5;241;43m40\u001b[39;49m\u001b[43m)\u001b[49m\u001b[43m]\u001b[49m) \n",
      "Cell \u001b[1;32mIn[12], line 1\u001b[0m, in \u001b[0;36m<listcomp>\u001b[1;34m(.0)\u001b[0m\n\u001b[1;32m----> 1\u001b[0m df \u001b[38;5;241m=\u001b[39m pd\u001b[38;5;241m.\u001b[39mconcat([pd\u001b[38;5;241m.\u001b[39mDataFrame(\u001b[43mnp\u001b[49m\u001b[38;5;241;43m.\u001b[39;49m\u001b[43mrandom\u001b[49m\u001b[38;5;241;43m.\u001b[39;49m\u001b[43mrandint\u001b[49m\u001b[43m(\u001b[49m\u001b[38;5;241;43m0\u001b[39;49m\u001b[43m,\u001b[49m\u001b[43m \u001b[49m\u001b[38;5;241;43m100\u001b[39;49m\u001b[43m,\u001b[49m\u001b[43m \u001b[49m\u001b[43msize\u001b[49m\u001b[38;5;241;43m=\u001b[39;49m\u001b[43m(\u001b[49m\u001b[38;5;241;43m2\u001b[39;49m\u001b[38;5;241;43m*\u001b[39;49m\u001b[38;5;241;43m*\u001b[39;49m\u001b[38;5;241;43m20\u001b[39;49m\u001b[43m,\u001b[49m\u001b[43m \u001b[49m\u001b[38;5;241;43m2\u001b[39;49m\u001b[38;5;241;43m*\u001b[39;49m\u001b[38;5;241;43m*\u001b[39;49m\u001b[38;5;241;43m8\u001b[39;49m\u001b[43m)\u001b[49m\u001b[43m)\u001b[49m) \u001b[38;5;28;01mfor\u001b[39;00m _ \u001b[38;5;129;01min\u001b[39;00m \u001b[38;5;28mrange\u001b[39m(\u001b[38;5;241m40\u001b[39m)]) \n",
      "\u001b[1;31mKeyboardInterrupt\u001b[0m: "
     ]
    }
   ],
   "source": [
    "\n",
    "df = pd.concat([pd.DataFrame(np.random.randint(0, 100, size=(2**20, 2**8))) for _ in range(40)]) "
   ]
  },
  {
   "cell_type": "code",
   "execution_count": 13,
   "id": "1c6427be",
   "metadata": {},
   "outputs": [],
   "source": [
    "df = pd.concat([pd.DataFrame(np.random.randint(0, 100, size=(2**8, 2**6))) for _ in range(40)]) "
   ]
  },
  {
   "cell_type": "code",
   "execution_count": 14,
   "id": "27b118b6",
   "metadata": {},
   "outputs": [
    {
     "data": {
      "text/html": [
       "<div>\n",
       "<style scoped>\n",
       "    .dataframe tbody tr th:only-of-type {\n",
       "        vertical-align: middle;\n",
       "    }\n",
       "\n",
       "    .dataframe tbody tr th {\n",
       "        vertical-align: top;\n",
       "    }\n",
       "\n",
       "    .dataframe thead th {\n",
       "        text-align: right;\n",
       "    }\n",
       "</style>\n",
       "<table border=\"1\" class=\"dataframe\">\n",
       "  <thead>\n",
       "    <tr style=\"text-align: right;\">\n",
       "      <th></th>\n",
       "      <th>0</th>\n",
       "      <th>1</th>\n",
       "      <th>2</th>\n",
       "      <th>3</th>\n",
       "      <th>4</th>\n",
       "      <th>5</th>\n",
       "      <th>6</th>\n",
       "      <th>7</th>\n",
       "      <th>8</th>\n",
       "      <th>9</th>\n",
       "      <th>...</th>\n",
       "      <th>54</th>\n",
       "      <th>55</th>\n",
       "      <th>56</th>\n",
       "      <th>57</th>\n",
       "      <th>58</th>\n",
       "      <th>59</th>\n",
       "      <th>60</th>\n",
       "      <th>61</th>\n",
       "      <th>62</th>\n",
       "      <th>63</th>\n",
       "    </tr>\n",
       "  </thead>\n",
       "  <tbody>\n",
       "    <tr>\n",
       "      <th>0</th>\n",
       "      <td>80</td>\n",
       "      <td>67</td>\n",
       "      <td>55</td>\n",
       "      <td>70</td>\n",
       "      <td>43</td>\n",
       "      <td>85</td>\n",
       "      <td>13</td>\n",
       "      <td>9</td>\n",
       "      <td>18</td>\n",
       "      <td>41</td>\n",
       "      <td>...</td>\n",
       "      <td>7</td>\n",
       "      <td>63</td>\n",
       "      <td>12</td>\n",
       "      <td>23</td>\n",
       "      <td>36</td>\n",
       "      <td>6</td>\n",
       "      <td>84</td>\n",
       "      <td>13</td>\n",
       "      <td>19</td>\n",
       "      <td>92</td>\n",
       "    </tr>\n",
       "    <tr>\n",
       "      <th>1</th>\n",
       "      <td>92</td>\n",
       "      <td>56</td>\n",
       "      <td>31</td>\n",
       "      <td>45</td>\n",
       "      <td>97</td>\n",
       "      <td>51</td>\n",
       "      <td>91</td>\n",
       "      <td>15</td>\n",
       "      <td>26</td>\n",
       "      <td>12</td>\n",
       "      <td>...</td>\n",
       "      <td>71</td>\n",
       "      <td>59</td>\n",
       "      <td>68</td>\n",
       "      <td>9</td>\n",
       "      <td>41</td>\n",
       "      <td>43</td>\n",
       "      <td>58</td>\n",
       "      <td>49</td>\n",
       "      <td>26</td>\n",
       "      <td>6</td>\n",
       "    </tr>\n",
       "    <tr>\n",
       "      <th>2</th>\n",
       "      <td>47</td>\n",
       "      <td>4</td>\n",
       "      <td>8</td>\n",
       "      <td>57</td>\n",
       "      <td>52</td>\n",
       "      <td>40</td>\n",
       "      <td>47</td>\n",
       "      <td>9</td>\n",
       "      <td>1</td>\n",
       "      <td>55</td>\n",
       "      <td>...</td>\n",
       "      <td>9</td>\n",
       "      <td>79</td>\n",
       "      <td>98</td>\n",
       "      <td>7</td>\n",
       "      <td>63</td>\n",
       "      <td>5</td>\n",
       "      <td>32</td>\n",
       "      <td>13</td>\n",
       "      <td>76</td>\n",
       "      <td>41</td>\n",
       "    </tr>\n",
       "    <tr>\n",
       "      <th>3</th>\n",
       "      <td>16</td>\n",
       "      <td>34</td>\n",
       "      <td>48</td>\n",
       "      <td>99</td>\n",
       "      <td>73</td>\n",
       "      <td>51</td>\n",
       "      <td>24</td>\n",
       "      <td>26</td>\n",
       "      <td>35</td>\n",
       "      <td>54</td>\n",
       "      <td>...</td>\n",
       "      <td>27</td>\n",
       "      <td>55</td>\n",
       "      <td>72</td>\n",
       "      <td>8</td>\n",
       "      <td>62</td>\n",
       "      <td>92</td>\n",
       "      <td>43</td>\n",
       "      <td>44</td>\n",
       "      <td>27</td>\n",
       "      <td>7</td>\n",
       "    </tr>\n",
       "    <tr>\n",
       "      <th>4</th>\n",
       "      <td>81</td>\n",
       "      <td>45</td>\n",
       "      <td>86</td>\n",
       "      <td>67</td>\n",
       "      <td>40</td>\n",
       "      <td>55</td>\n",
       "      <td>79</td>\n",
       "      <td>24</td>\n",
       "      <td>55</td>\n",
       "      <td>94</td>\n",
       "      <td>...</td>\n",
       "      <td>72</td>\n",
       "      <td>8</td>\n",
       "      <td>58</td>\n",
       "      <td>50</td>\n",
       "      <td>64</td>\n",
       "      <td>36</td>\n",
       "      <td>92</td>\n",
       "      <td>22</td>\n",
       "      <td>10</td>\n",
       "      <td>69</td>\n",
       "    </tr>\n",
       "  </tbody>\n",
       "</table>\n",
       "<p>5 rows × 64 columns</p>\n",
       "</div>"
      ],
      "text/plain": [
       "   0   1   2   3   4   5   6   7   8   9   ...  54  55  56  57  58  59  60  \\\n",
       "0  80  67  55  70  43  85  13   9  18  41  ...   7  63  12  23  36   6  84   \n",
       "1  92  56  31  45  97  51  91  15  26  12  ...  71  59  68   9  41  43  58   \n",
       "2  47   4   8  57  52  40  47   9   1  55  ...   9  79  98   7  63   5  32   \n",
       "3  16  34  48  99  73  51  24  26  35  54  ...  27  55  72   8  62  92  43   \n",
       "4  81  45  86  67  40  55  79  24  55  94  ...  72   8  58  50  64  36  92   \n",
       "\n",
       "   61  62  63  \n",
       "0  13  19  92  \n",
       "1  49  26   6  \n",
       "2  13  76  41  \n",
       "3  44  27   7  \n",
       "4  22  10  69  \n",
       "\n",
       "[5 rows x 64 columns]"
      ]
     },
     "execution_count": 14,
     "metadata": {},
     "output_type": "execute_result"
    }
   ],
   "source": [
    "df.head()"
   ]
  },
  {
   "cell_type": "code",
   "execution_count": 15,
   "id": "a5f2e531",
   "metadata": {},
   "outputs": [],
   "source": [
    "df.to_csv('dff.csv')"
   ]
  },
  {
   "cell_type": "code",
   "execution_count": 16,
   "id": "b56bcf64",
   "metadata": {},
   "outputs": [
    {
     "data": {
      "text/html": [
       "<div>\n",
       "<style scoped>\n",
       "    .dataframe tbody tr th:only-of-type {\n",
       "        vertical-align: middle;\n",
       "    }\n",
       "\n",
       "    .dataframe tbody tr th {\n",
       "        vertical-align: top;\n",
       "    }\n",
       "\n",
       "    .dataframe thead th {\n",
       "        text-align: right;\n",
       "    }\n",
       "</style>\n",
       "<table border=\"1\" class=\"dataframe\">\n",
       "  <thead>\n",
       "    <tr style=\"text-align: right;\">\n",
       "      <th></th>\n",
       "      <th>0</th>\n",
       "      <th>1</th>\n",
       "      <th>2</th>\n",
       "      <th>3</th>\n",
       "      <th>4</th>\n",
       "      <th>5</th>\n",
       "      <th>6</th>\n",
       "      <th>7</th>\n",
       "      <th>8</th>\n",
       "      <th>9</th>\n",
       "      <th>...</th>\n",
       "      <th>54</th>\n",
       "      <th>55</th>\n",
       "      <th>56</th>\n",
       "      <th>57</th>\n",
       "      <th>58</th>\n",
       "      <th>59</th>\n",
       "      <th>60</th>\n",
       "      <th>61</th>\n",
       "      <th>62</th>\n",
       "      <th>63</th>\n",
       "    </tr>\n",
       "  </thead>\n",
       "  <tbody>\n",
       "    <tr>\n",
       "      <th>0</th>\n",
       "      <td>80</td>\n",
       "      <td>67</td>\n",
       "      <td>55</td>\n",
       "      <td>70</td>\n",
       "      <td>43</td>\n",
       "      <td>85</td>\n",
       "      <td>13</td>\n",
       "      <td>9</td>\n",
       "      <td>18</td>\n",
       "      <td>41</td>\n",
       "      <td>...</td>\n",
       "      <td>7</td>\n",
       "      <td>63</td>\n",
       "      <td>12</td>\n",
       "      <td>23</td>\n",
       "      <td>36</td>\n",
       "      <td>6</td>\n",
       "      <td>84</td>\n",
       "      <td>13</td>\n",
       "      <td>19</td>\n",
       "      <td>92</td>\n",
       "    </tr>\n",
       "    <tr>\n",
       "      <th>1</th>\n",
       "      <td>92</td>\n",
       "      <td>56</td>\n",
       "      <td>31</td>\n",
       "      <td>45</td>\n",
       "      <td>97</td>\n",
       "      <td>51</td>\n",
       "      <td>91</td>\n",
       "      <td>15</td>\n",
       "      <td>26</td>\n",
       "      <td>12</td>\n",
       "      <td>...</td>\n",
       "      <td>71</td>\n",
       "      <td>59</td>\n",
       "      <td>68</td>\n",
       "      <td>9</td>\n",
       "      <td>41</td>\n",
       "      <td>43</td>\n",
       "      <td>58</td>\n",
       "      <td>49</td>\n",
       "      <td>26</td>\n",
       "      <td>6</td>\n",
       "    </tr>\n",
       "    <tr>\n",
       "      <th>2</th>\n",
       "      <td>47</td>\n",
       "      <td>4</td>\n",
       "      <td>8</td>\n",
       "      <td>57</td>\n",
       "      <td>52</td>\n",
       "      <td>40</td>\n",
       "      <td>47</td>\n",
       "      <td>9</td>\n",
       "      <td>1</td>\n",
       "      <td>55</td>\n",
       "      <td>...</td>\n",
       "      <td>9</td>\n",
       "      <td>79</td>\n",
       "      <td>98</td>\n",
       "      <td>7</td>\n",
       "      <td>63</td>\n",
       "      <td>5</td>\n",
       "      <td>32</td>\n",
       "      <td>13</td>\n",
       "      <td>76</td>\n",
       "      <td>41</td>\n",
       "    </tr>\n",
       "    <tr>\n",
       "      <th>3</th>\n",
       "      <td>16</td>\n",
       "      <td>34</td>\n",
       "      <td>48</td>\n",
       "      <td>99</td>\n",
       "      <td>73</td>\n",
       "      <td>51</td>\n",
       "      <td>24</td>\n",
       "      <td>26</td>\n",
       "      <td>35</td>\n",
       "      <td>54</td>\n",
       "      <td>...</td>\n",
       "      <td>27</td>\n",
       "      <td>55</td>\n",
       "      <td>72</td>\n",
       "      <td>8</td>\n",
       "      <td>62</td>\n",
       "      <td>92</td>\n",
       "      <td>43</td>\n",
       "      <td>44</td>\n",
       "      <td>27</td>\n",
       "      <td>7</td>\n",
       "    </tr>\n",
       "    <tr>\n",
       "      <th>4</th>\n",
       "      <td>81</td>\n",
       "      <td>45</td>\n",
       "      <td>86</td>\n",
       "      <td>67</td>\n",
       "      <td>40</td>\n",
       "      <td>55</td>\n",
       "      <td>79</td>\n",
       "      <td>24</td>\n",
       "      <td>55</td>\n",
       "      <td>94</td>\n",
       "      <td>...</td>\n",
       "      <td>72</td>\n",
       "      <td>8</td>\n",
       "      <td>58</td>\n",
       "      <td>50</td>\n",
       "      <td>64</td>\n",
       "      <td>36</td>\n",
       "      <td>92</td>\n",
       "      <td>22</td>\n",
       "      <td>10</td>\n",
       "      <td>69</td>\n",
       "    </tr>\n",
       "  </tbody>\n",
       "</table>\n",
       "<p>5 rows × 64 columns</p>\n",
       "</div>"
      ],
      "text/plain": [
       "   0   1   2   3   4   5   6   7   8   9   ...  54  55  56  57  58  59  60  \\\n",
       "0  80  67  55  70  43  85  13   9  18  41  ...   7  63  12  23  36   6  84   \n",
       "1  92  56  31  45  97  51  91  15  26  12  ...  71  59  68   9  41  43  58   \n",
       "2  47   4   8  57  52  40  47   9   1  55  ...   9  79  98   7  63   5  32   \n",
       "3  16  34  48  99  73  51  24  26  35  54  ...  27  55  72   8  62  92  43   \n",
       "4  81  45  86  67  40  55  79  24  55  94  ...  72   8  58  50  64  36  92   \n",
       "\n",
       "   61  62  63  \n",
       "0  13  19  92  \n",
       "1  49  26   6  \n",
       "2  13  76  41  \n",
       "3  44  27   7  \n",
       "4  22  10  69  \n",
       "\n",
       "[5 rows x 64 columns]"
      ]
     },
     "execution_count": 16,
     "metadata": {},
     "output_type": "execute_result"
    }
   ],
   "source": [
    "df.head()"
   ]
  },
  {
   "cell_type": "code",
   "execution_count": 17,
   "id": "688e60a5",
   "metadata": {},
   "outputs": [
    {
     "name": "stdout",
     "output_type": "stream",
     "text": [
      "     0   1   2   3   4   5   6   7   8   9   10  11  12  13  14  15  16  17  \\\n",
      "0    80  67  55  70  43  85  13   9  18  41  11  47  22  80  66   4  69  26   \n",
      "1    92  56  31  45  97  51  91  15  26  12  19  55  48   1  65  87  91  68   \n",
      "2    47   4   8  57  52  40  47   9   1  55  37  69   1  93   6  28   2  88   \n",
      "3    16  34  48  99  73  51  24  26  35  54  83   8  22  10   7  65  72  66   \n",
      "4    81  45  86  67  40  55  79  24  55  94  93  29  36  32  44  90  64  36   \n",
      "..   ..  ..  ..  ..  ..  ..  ..  ..  ..  ..  ..  ..  ..  ..  ..  ..  ..  ..   \n",
      "251  18  81  78  57  70  21  77  86  62  70  78  14  45  19  20  58  96  54   \n",
      "252  97  95  65  66  73  54  49  62  84  58  82  46  94  90  51  76  63  52   \n",
      "253  36  52   0  33  53  38  19  63   9   9  90  39  34  98  17  59  92  13   \n",
      "254  86  67   3  66  54  64  26   1   3  75  29  62  24  66  15   9   9  90   \n",
      "255  81  16  93  46  22  61  59  71  80  49   7  59  93  38  74  91   5  49   \n",
      "\n",
      "     18  19  20  21  22  23  24  25  26  27  28  29  30  31  32  33  34  35  \\\n",
      "0    78  40  51  41  79  93  12  65  11  22  30  28  68  86  41   2  58   7   \n",
      "1     9  72  22  46   2  78  70  18  44  48  71   4  45  36  58  39  18  21   \n",
      "2    44  32  35   5  66  44  28  39  65  31  45  51  81  11  43  38  25  70   \n",
      "3    66  69  76   5  22   2  55  83  16  91  99  77  19  14  12  90  22  95   \n",
      "4    98  50  44   6  26  58  79  56   4  93   7  89  38  66  98  26  70  79   \n",
      "..   ..  ..  ..  ..  ..  ..  ..  ..  ..  ..  ..  ..  ..  ..  ..  ..  ..  ..   \n",
      "251   1  28  23  83  52  26  91  30  96  48  95  45  55  79  83  90  48   6   \n",
      "252   6  90  79  13  82  80  49  24  26  89  66   9  76  58  43  95  19  39   \n",
      "253  21  61  48  87  64  17  26  84  43  25  28  31  84  50  61  68  96  71   \n",
      "254  69  94  32  81  35  26   6  69  34   7  59  37  27  62  86  23  13  47   \n",
      "255  71  46  81  98  99  58  93  44  47  90  79  68  67  55  41  19  33  75   \n",
      "\n",
      "     36  37  38  39  40  41  42  43  44  45  46  47  48  49  50  51  52  53  \\\n",
      "0    42  37  62  77  22  51  74  44  64   1   5  77  29  44  32  51  18  41   \n",
      "1     9  95  68  59  14  61  46  46  78  12  82  76  27  59   8  31  54   5   \n",
      "2    31  10  50  12  46  40  55  13  13  48  40  81  79  35  63  88  88   9   \n",
      "3    11  43  32  51  76  83  63  37   9  53  46  52  86  91  86  58  16  56   \n",
      "4    51  73  26  56  74  25   4  31  77  90  19  34  45  42  73  62  37  82   \n",
      "..   ..  ..  ..  ..  ..  ..  ..  ..  ..  ..  ..  ..  ..  ..  ..  ..  ..  ..   \n",
      "251  44  44  78  78  88   9  26   6  23  24  20  65   1  77  96  25   2  66   \n",
      "252   8  79   1   4  67  37  58  13  54  56  16  51  92  93  76  95  57  28   \n",
      "253  32  24  50  15  10  70  68  85  80  79  18  49   9  37  37  37  82  65   \n",
      "254  64   6  45  43  21  51  28  18  65  39  65  88  10  12  91  47   9  76   \n",
      "255  37  72  23  67  81  16  57  27  31  62  28  69  81   8  51  69  51  55   \n",
      "\n",
      "     54  55  56  57  58  59  60  61  62  63  \n",
      "0     7  63  12  23  36   6  84  13  19  92  \n",
      "1    71  59  68   9  41  43  58  49  26   6  \n",
      "2     9  79  98   7  63   5  32  13  76  41  \n",
      "3    27  55  72   8  62  92  43  44  27   7  \n",
      "4    72   8  58  50  64  36  92  22  10  69  \n",
      "..   ..  ..  ..  ..  ..  ..  ..  ..  ..  ..  \n",
      "251  97  83  50  23  34  17  92  47  72  39  \n",
      "252  87  19  65  18  62   1  72  50  48  60  \n",
      "253  66  97  89  84  83  27  65  87  89  19  \n",
      "254  39  22  45  91  21   2  16  37  21  30  \n",
      "255  73  76  42  10  78  15  61   4  73  10  \n",
      "\n",
      "[10240 rows x 64 columns]\n"
     ]
    }
   ],
   "source": [
    "pd.set_option('display.max_columns', None)\n",
    "\n",
    "print(df)"
   ]
  },
  {
   "cell_type": "code",
   "execution_count": 20,
   "id": "f5318c73",
   "metadata": {},
   "outputs": [],
   "source": [
    "cs = pd.read_csv(r'C:\\Users\\TUF GAMING F15\\Desktop\\SAP\\CodeUnnatiPVPIT-main\\CodeUnnatiPVPIT-main\\car_data.csv')"
   ]
  },
  {
   "cell_type": "code",
   "execution_count": 21,
   "id": "a449fbb5",
   "metadata": {},
   "outputs": [
    {
     "data": {
      "text/html": [
       "<div>\n",
       "<style scoped>\n",
       "    .dataframe tbody tr th:only-of-type {\n",
       "        vertical-align: middle;\n",
       "    }\n",
       "\n",
       "    .dataframe tbody tr th {\n",
       "        vertical-align: top;\n",
       "    }\n",
       "\n",
       "    .dataframe thead th {\n",
       "        text-align: right;\n",
       "    }\n",
       "</style>\n",
       "<table border=\"1\" class=\"dataframe\">\n",
       "  <thead>\n",
       "    <tr style=\"text-align: right;\">\n",
       "      <th></th>\n",
       "      <th>Car_Name</th>\n",
       "      <th>Year</th>\n",
       "      <th>Selling_Price</th>\n",
       "      <th>Present_Price</th>\n",
       "      <th>Kms_Driven</th>\n",
       "      <th>Fuel_Type</th>\n",
       "      <th>Seller_Type</th>\n",
       "      <th>Transmission</th>\n",
       "      <th>Owner</th>\n",
       "    </tr>\n",
       "  </thead>\n",
       "  <tbody>\n",
       "    <tr>\n",
       "      <th>0</th>\n",
       "      <td>ritz</td>\n",
       "      <td>2014</td>\n",
       "      <td>3.35</td>\n",
       "      <td>5.59</td>\n",
       "      <td>27000</td>\n",
       "      <td>Petrol</td>\n",
       "      <td>Dealer</td>\n",
       "      <td>Manual</td>\n",
       "      <td>0</td>\n",
       "    </tr>\n",
       "    <tr>\n",
       "      <th>1</th>\n",
       "      <td>sx4</td>\n",
       "      <td>2013</td>\n",
       "      <td>4.75</td>\n",
       "      <td>9.54</td>\n",
       "      <td>43000</td>\n",
       "      <td>Diesel</td>\n",
       "      <td>Dealer</td>\n",
       "      <td>Manual</td>\n",
       "      <td>0</td>\n",
       "    </tr>\n",
       "    <tr>\n",
       "      <th>2</th>\n",
       "      <td>ciaz</td>\n",
       "      <td>2017</td>\n",
       "      <td>7.25</td>\n",
       "      <td>9.85</td>\n",
       "      <td>6900</td>\n",
       "      <td>Petrol</td>\n",
       "      <td>Dealer</td>\n",
       "      <td>Manual</td>\n",
       "      <td>0</td>\n",
       "    </tr>\n",
       "    <tr>\n",
       "      <th>3</th>\n",
       "      <td>wagon r</td>\n",
       "      <td>2011</td>\n",
       "      <td>2.85</td>\n",
       "      <td>4.15</td>\n",
       "      <td>5200</td>\n",
       "      <td>Petrol</td>\n",
       "      <td>Dealer</td>\n",
       "      <td>Manual</td>\n",
       "      <td>0</td>\n",
       "    </tr>\n",
       "    <tr>\n",
       "      <th>4</th>\n",
       "      <td>swift</td>\n",
       "      <td>2014</td>\n",
       "      <td>4.60</td>\n",
       "      <td>6.87</td>\n",
       "      <td>42450</td>\n",
       "      <td>Diesel</td>\n",
       "      <td>Dealer</td>\n",
       "      <td>Manual</td>\n",
       "      <td>0</td>\n",
       "    </tr>\n",
       "  </tbody>\n",
       "</table>\n",
       "</div>"
      ],
      "text/plain": [
       "  Car_Name  Year  Selling_Price  Present_Price  Kms_Driven Fuel_Type  \\\n",
       "0     ritz  2014           3.35           5.59       27000    Petrol   \n",
       "1      sx4  2013           4.75           9.54       43000    Diesel   \n",
       "2     ciaz  2017           7.25           9.85        6900    Petrol   \n",
       "3  wagon r  2011           2.85           4.15        5200    Petrol   \n",
       "4    swift  2014           4.60           6.87       42450    Diesel   \n",
       "\n",
       "  Seller_Type Transmission  Owner  \n",
       "0      Dealer       Manual      0  \n",
       "1      Dealer       Manual      0  \n",
       "2      Dealer       Manual      0  \n",
       "3      Dealer       Manual      0  \n",
       "4      Dealer       Manual      0  "
      ]
     },
     "execution_count": 21,
     "metadata": {},
     "output_type": "execute_result"
    }
   ],
   "source": [
    "cs.head()"
   ]
  },
  {
   "cell_type": "code",
   "execution_count": 23,
   "id": "b2adfcda",
   "metadata": {},
   "outputs": [
    {
     "name": "stdout",
     "output_type": "stream",
     "text": [
      "<class 'pandas.core.frame.DataFrame'>\n",
      "RangeIndex: 301 entries, 0 to 300\n",
      "Data columns (total 9 columns):\n",
      " #   Column         Non-Null Count  Dtype  \n",
      "---  ------         --------------  -----  \n",
      " 0   Car_Name       301 non-null    object \n",
      " 1   Year           301 non-null    int64  \n",
      " 2   Selling_Price  301 non-null    float64\n",
      " 3   Present_Price  301 non-null    float64\n",
      " 4   Kms_Driven     301 non-null    int64  \n",
      " 5   Fuel_Type      301 non-null    object \n",
      " 6   Seller_Type    301 non-null    object \n",
      " 7   Transmission   301 non-null    object \n",
      " 8   Owner          301 non-null    int64  \n",
      "dtypes: float64(2), int64(3), object(4)\n",
      "memory usage: 21.3+ KB\n"
     ]
    }
   ],
   "source": [
    "cs.info()"
   ]
  },
  {
   "cell_type": "raw",
   "id": "81f98756",
   "metadata": {},
   "source": []
  },
  {
   "cell_type": "code",
   "execution_count": 24,
   "id": "b8d4258b",
   "metadata": {},
   "outputs": [],
   "source": [
    "years = cs[\"Year\"]"
   ]
  },
  {
   "cell_type": "code",
   "execution_count": 26,
   "id": "36a99ac2",
   "metadata": {},
   "outputs": [
    {
     "name": "stdout",
     "output_type": "stream",
     "text": [
      "2003\n"
     ]
    }
   ],
   "source": [
    "earliest = years.min()\n",
    "print(earliest)"
   ]
  },
  {
   "cell_type": "code",
   "execution_count": 28,
   "id": "fa791dd6",
   "metadata": {},
   "outputs": [
    {
     "name": "stdout",
     "output_type": "stream",
     "text": [
      "2018\n"
     ]
    }
   ],
   "source": [
    "latest = years.max()\n",
    "print(latest)"
   ]
  },
  {
   "cell_type": "code",
   "execution_count": 31,
   "id": "5143d53d",
   "metadata": {},
   "outputs": [],
   "source": [
    "pricee = cs[\"Selling_Price\"]"
   ]
  },
  {
   "cell_type": "code",
   "execution_count": 33,
   "id": "2e428c42",
   "metadata": {},
   "outputs": [
    {
     "name": "stdout",
     "output_type": "stream",
     "text": [
      "0.1\n"
     ]
    }
   ],
   "source": [
    "lowest_price =pricee.min()\n",
    "print(lowest_price)"
   ]
  },
  {
   "cell_type": "code",
   "execution_count": 34,
   "id": "a9edcfda",
   "metadata": {},
   "outputs": [
    {
     "name": "stdout",
     "output_type": "stream",
     "text": [
      "35.0\n"
     ]
    }
   ],
   "source": [
    "max_price = pricee.max()\n",
    "print(max_price)"
   ]
  },
  {
   "cell_type": "code",
   "execution_count": 36,
   "id": "0d84f337",
   "metadata": {},
   "outputs": [
    {
     "data": {
      "text/html": [
       "<div>\n",
       "<style scoped>\n",
       "    .dataframe tbody tr th:only-of-type {\n",
       "        vertical-align: middle;\n",
       "    }\n",
       "\n",
       "    .dataframe tbody tr th {\n",
       "        vertical-align: top;\n",
       "    }\n",
       "\n",
       "    .dataframe thead th {\n",
       "        text-align: right;\n",
       "    }\n",
       "</style>\n",
       "<table border=\"1\" class=\"dataframe\">\n",
       "  <thead>\n",
       "    <tr style=\"text-align: right;\">\n",
       "      <th></th>\n",
       "      <th>Car_Name</th>\n",
       "      <th>Year</th>\n",
       "      <th>Selling_Price</th>\n",
       "      <th>Present_Price</th>\n",
       "      <th>Kms_Driven</th>\n",
       "      <th>Fuel_Type</th>\n",
       "      <th>Seller_Type</th>\n",
       "      <th>Transmission</th>\n",
       "      <th>Owner</th>\n",
       "    </tr>\n",
       "  </thead>\n",
       "  <tbody>\n",
       "    <tr>\n",
       "      <th>0</th>\n",
       "      <td>False</td>\n",
       "      <td>False</td>\n",
       "      <td>False</td>\n",
       "      <td>False</td>\n",
       "      <td>False</td>\n",
       "      <td>False</td>\n",
       "      <td>False</td>\n",
       "      <td>False</td>\n",
       "      <td>False</td>\n",
       "    </tr>\n",
       "    <tr>\n",
       "      <th>1</th>\n",
       "      <td>False</td>\n",
       "      <td>False</td>\n",
       "      <td>False</td>\n",
       "      <td>False</td>\n",
       "      <td>False</td>\n",
       "      <td>False</td>\n",
       "      <td>False</td>\n",
       "      <td>False</td>\n",
       "      <td>False</td>\n",
       "    </tr>\n",
       "    <tr>\n",
       "      <th>2</th>\n",
       "      <td>False</td>\n",
       "      <td>False</td>\n",
       "      <td>False</td>\n",
       "      <td>False</td>\n",
       "      <td>False</td>\n",
       "      <td>False</td>\n",
       "      <td>False</td>\n",
       "      <td>False</td>\n",
       "      <td>False</td>\n",
       "    </tr>\n",
       "    <tr>\n",
       "      <th>3</th>\n",
       "      <td>False</td>\n",
       "      <td>False</td>\n",
       "      <td>False</td>\n",
       "      <td>False</td>\n",
       "      <td>False</td>\n",
       "      <td>False</td>\n",
       "      <td>False</td>\n",
       "      <td>False</td>\n",
       "      <td>False</td>\n",
       "    </tr>\n",
       "    <tr>\n",
       "      <th>4</th>\n",
       "      <td>False</td>\n",
       "      <td>False</td>\n",
       "      <td>False</td>\n",
       "      <td>False</td>\n",
       "      <td>False</td>\n",
       "      <td>False</td>\n",
       "      <td>False</td>\n",
       "      <td>False</td>\n",
       "      <td>False</td>\n",
       "    </tr>\n",
       "    <tr>\n",
       "      <th>...</th>\n",
       "      <td>...</td>\n",
       "      <td>...</td>\n",
       "      <td>...</td>\n",
       "      <td>...</td>\n",
       "      <td>...</td>\n",
       "      <td>...</td>\n",
       "      <td>...</td>\n",
       "      <td>...</td>\n",
       "      <td>...</td>\n",
       "    </tr>\n",
       "    <tr>\n",
       "      <th>296</th>\n",
       "      <td>False</td>\n",
       "      <td>False</td>\n",
       "      <td>False</td>\n",
       "      <td>False</td>\n",
       "      <td>False</td>\n",
       "      <td>False</td>\n",
       "      <td>False</td>\n",
       "      <td>False</td>\n",
       "      <td>False</td>\n",
       "    </tr>\n",
       "    <tr>\n",
       "      <th>297</th>\n",
       "      <td>False</td>\n",
       "      <td>False</td>\n",
       "      <td>False</td>\n",
       "      <td>False</td>\n",
       "      <td>False</td>\n",
       "      <td>False</td>\n",
       "      <td>False</td>\n",
       "      <td>False</td>\n",
       "      <td>False</td>\n",
       "    </tr>\n",
       "    <tr>\n",
       "      <th>298</th>\n",
       "      <td>False</td>\n",
       "      <td>False</td>\n",
       "      <td>False</td>\n",
       "      <td>False</td>\n",
       "      <td>False</td>\n",
       "      <td>False</td>\n",
       "      <td>False</td>\n",
       "      <td>False</td>\n",
       "      <td>False</td>\n",
       "    </tr>\n",
       "    <tr>\n",
       "      <th>299</th>\n",
       "      <td>False</td>\n",
       "      <td>False</td>\n",
       "      <td>False</td>\n",
       "      <td>False</td>\n",
       "      <td>False</td>\n",
       "      <td>False</td>\n",
       "      <td>False</td>\n",
       "      <td>False</td>\n",
       "      <td>False</td>\n",
       "    </tr>\n",
       "    <tr>\n",
       "      <th>300</th>\n",
       "      <td>False</td>\n",
       "      <td>False</td>\n",
       "      <td>False</td>\n",
       "      <td>False</td>\n",
       "      <td>False</td>\n",
       "      <td>False</td>\n",
       "      <td>False</td>\n",
       "      <td>False</td>\n",
       "      <td>False</td>\n",
       "    </tr>\n",
       "  </tbody>\n",
       "</table>\n",
       "<p>301 rows × 9 columns</p>\n",
       "</div>"
      ],
      "text/plain": [
       "     Car_Name   Year  Selling_Price  Present_Price  Kms_Driven  Fuel_Type  \\\n",
       "0       False  False          False          False       False      False   \n",
       "1       False  False          False          False       False      False   \n",
       "2       False  False          False          False       False      False   \n",
       "3       False  False          False          False       False      False   \n",
       "4       False  False          False          False       False      False   \n",
       "..        ...    ...            ...            ...         ...        ...   \n",
       "296     False  False          False          False       False      False   \n",
       "297     False  False          False          False       False      False   \n",
       "298     False  False          False          False       False      False   \n",
       "299     False  False          False          False       False      False   \n",
       "300     False  False          False          False       False      False   \n",
       "\n",
       "     Seller_Type  Transmission  Owner  \n",
       "0          False         False  False  \n",
       "1          False         False  False  \n",
       "2          False         False  False  \n",
       "3          False         False  False  \n",
       "4          False         False  False  \n",
       "..           ...           ...    ...  \n",
       "296        False         False  False  \n",
       "297        False         False  False  \n",
       "298        False         False  False  \n",
       "299        False         False  False  \n",
       "300        False         False  False  \n",
       "\n",
       "[301 rows x 9 columns]"
      ]
     },
     "execution_count": 36,
     "metadata": {},
     "output_type": "execute_result"
    }
   ],
   "source": [
    "cs.isnull()"
   ]
  },
  {
   "cell_type": "code",
   "execution_count": 37,
   "id": "29fa69c9",
   "metadata": {},
   "outputs": [
    {
     "data": {
      "text/plain": [
       "Car_Name         0\n",
       "Year             0\n",
       "Selling_Price    0\n",
       "Present_Price    0\n",
       "Kms_Driven       0\n",
       "Fuel_Type        0\n",
       "Seller_Type      0\n",
       "Transmission     0\n",
       "Owner            0\n",
       "dtype: int64"
      ]
     },
     "execution_count": 37,
     "metadata": {},
     "output_type": "execute_result"
    }
   ],
   "source": [
    "cs.isnull().sum()"
   ]
  },
  {
   "cell_type": "code",
   "execution_count": 43,
   "id": "6774aaa2",
   "metadata": {},
   "outputs": [
    {
     "data": {
      "text/plain": [
       "Fuel_Type\n",
       "Petrol    239\n",
       "Diesel     60\n",
       "CNG         2\n",
       "Name: count, dtype: int64"
      ]
     },
     "execution_count": 43,
     "metadata": {},
     "output_type": "execute_result"
    }
   ],
   "source": [
    "cs.Fuel_Type.value_counts()"
   ]
  },
  {
   "cell_type": "code",
   "execution_count": 63,
   "id": "a97e5308",
   "metadata": {},
   "outputs": [],
   "source": [
    "import matplotlib.pyplot as plt\n",
    "import seaborn as sns"
   ]
  },
  {
   "cell_type": "code",
   "execution_count": 64,
   "id": "8c95f4dd",
   "metadata": {},
   "outputs": [
    {
     "data": {
      "text/plain": [
       "([<matplotlib.patches.Wedge at 0x1bbda97c750>,\n",
       "  <matplotlib.patches.Wedge at 0x1bbda9ab090>,\n",
       "  <matplotlib.patches.Wedge at 0x1bbda9b4410>],\n",
       " [Text(-0.8776154230777207, 0.6631675272328356, 'Petrol'),\n",
       "  Text(0.8635820276996969, -0.6813413839141726, 'Diesel'),\n",
       "  Text(1.0997603522251278, -0.022960132265800064, 'CNG')])"
      ]
     },
     "execution_count": 64,
     "metadata": {},
     "output_type": "execute_result"
    },
    {
     "data": {
      "image/png": "[encoded data removed]",
      "text/plain": [
       "<Figure size 640x480 with 1 Axes>"
      ]
     },
     "metadata": {},
     "output_type": "display_data"
    }
   ],
   "source": [
    "plt.pie(cs.Fuel_Type.value_counts() ,labels=[\"Petrol\", \"Diesel\",\"CNG\"])"
   ]
  },
  {
   "cell_type": "code",
   "execution_count": 65,
   "id": "c1fffd13",
   "metadata": {},
   "outputs": [
    {
     "data": {
      "text/plain": [
       "<BarContainer object of 3 artists>"
      ]
     },
     "execution_count": 65,
     "metadata": {},
     "output_type": "execute_result"
    },
    {
     "data": {
      "image/png": "[encoded data removed]",
      "text/plain": [
       "<Figure size 640x480 with 1 Axes>"
      ]
     },
     "metadata": {},
     "output_type": "display_data"
    }
   ],
   "source": [
    "\n",
    "plt.bar(cs.Fuel_Type.value_counts() ,width=50,height=50)"
   ]
  },
  {
   "cell_type": "code",
   "execution_count": 67,
   "id": "6691a8f1",
   "metadata": {},
   "outputs": [
    {
     "data": {
      "text/plain": [
       "<Axes: xlabel='Fuel_Type', ylabel='count'>"
      ]
     },
     "execution_count": 67,
     "metadata": {},
     "output_type": "execute_result"
    },
    {
     "data": {
      "image/png": "[encoded data removed]",
      "text/plain": [
       "<Figure size 1000x600 with 1 Axes>"
      ]
     },
     "metadata": {},
     "output_type": "display_data"
    }
   ],
   "source": [
    "plt.figure(figsize=(10,6))\n",
    "sns.countplot(x = 'Fuel_Type',data=cs)"
   ]
  },
  {
   "cell_type": "code",
   "execution_count": 79,
   "id": "6eaa7617",
   "metadata": {},
   "outputs": [
    {
     "data": {
      "image/png": "[encoded data removed]",
      "text/plain": [
       "<Figure size 640x480 with 1 Axes>"
      ]
     },
     "metadata": {},
     "output_type": "display_data"
    }
   ],
   "source": [
    "x = ['cs.Fuel_Type.value_counts']\n",
    "y = ['count']\n",
    "\n",
    "plt.bar(x ,y , color=\"red\")\n",
    "plt.show()"
   ]
  },
  {
   "cell_type": "code",
   "execution_count": null,
   "id": "688cae45",
   "metadata": {},
   "outputs": [],
   "source": []
  }
 ],
 "metadata": {
  "kernelspec": {
   "display_name": "Python 3 (ipykernel)",
   "language": "python",
   "name": "python3"
  },
  "language_info": {
   "codemirror_mode": {
    "name": "ipython",
    "version": 3
   },
   "file_extension": ".py",
   "mimetype": "text/x-python",
   "name": "python",
   "nbconvert_exporter": "python",
   "pygments_lexer": "ipython3",
   "version": "3.11.4"
  }
 },
 "nbformat": 4,
 "nbformat_minor": 5
}
